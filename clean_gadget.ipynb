{
 "cells": [
  {
   "cell_type": "code",
   "execution_count": 15,
   "metadata": {},
   "outputs": [],
   "source": [
    "import re\n",
    "import pandas as pd\n",
    "import io"
   ]
  },
  {
   "cell_type": "code",
   "execution_count": 16,
   "metadata": {},
   "outputs": [],
   "source": [
    "f1 = open(\"cwe119_cgd.txt\",\"r\")\n",
    "f2 = open(\"cwe399_cgd.txt\",\"r\")"
   ]
  },
  {
   "cell_type": "code",
   "execution_count": 17,
   "metadata": {},
   "outputs": [
    {
     "name": "stdout",
     "output_type": "stream",
     "text": [
      "<class '_io.TextIOWrapper'>\n",
      "<class '_io.TextIOWrapper'>\n"
     ]
    }
   ],
   "source": [
    "print(type(f1))\n",
    "print(type(f2))"
   ]
  },
  {
   "cell_type": "code",
   "execution_count": 18,
   "metadata": {},
   "outputs": [],
   "source": [
    "# keywords up to C11 and C++17; immutable set\n",
    "keywords = frozenset({'__asm', '__builtin', '__cdecl', '__declspec', '__except', '__export', '__far16', '__far32',\n",
    "                      '__fastcall', '__finally', '__import', '__inline', '__int16', '__int32', '__int64', '__int8',\n",
    "                      '__leave', '__optlink', '__packed', '__pascal', '__stdcall', '__system', '__thread', '__try',\n",
    "                      '__unaligned', '_asm', '_Builtin', '_Cdecl', '_declspec', '_except', '_Export', '_Far16',\n",
    "                      '_Far32', '_Fastcall', '_finally', '_Import', '_inline', '_int16', '_int32', '_int64',\n",
    "                      '_int8', '_leave', '_Optlink', '_Packed', '_Pascal', '_stdcall', '_System', '_try', 'alignas',\n",
    "                      'alignof', 'and', 'and_eq', 'asm', 'auto', 'bitand', 'bitor', 'bool', 'break', 'case',\n",
    "                      'catch', 'char', 'char16_t', 'char32_t', 'class', 'compl', 'const', 'const_cast', 'constexpr',\n",
    "                      'continue', 'decltype', 'default', 'delete', 'do', 'double', 'dynamic_cast', 'else', 'enum',\n",
    "                      'explicit', 'export', 'extern', 'false', 'final', 'float', 'for', 'friend', 'goto', 'if',\n",
    "                      'inline', 'int', 'long', 'mutable', 'namespace', 'new', 'noexcept', 'not', 'not_eq', 'nullptr',\n",
    "                      'operator', 'or', 'or_eq', 'override', 'private', 'protected', 'public', 'register',\n",
    "                      'reinterpret_cast', 'return', 'short', 'signed', 'sizeof', 'static', 'static_assert',\n",
    "                      'static_cast', 'struct', 'switch', 'template', 'this', 'thread_local', 'throw', 'true', 'try',\n",
    "                      'typedef', 'typeid', 'typename', 'union', 'unsigned', 'using', 'virtual', 'void', 'volatile',\n",
    "                      'wchar_t', 'while', 'xor', 'xor_eq', 'NULL'})\n",
    "# holds known non-user-defined functions; immutable set\n",
    "main_set = frozenset({'main'})\n",
    "# arguments in main function; immutable set\n",
    "main_args = frozenset({'argc', 'argv'})"
   ]
  },
  {
   "cell_type": "code",
   "execution_count": 19,
   "metadata": {},
   "outputs": [],
   "source": [
    "def clean_gadget(gadget):\n",
    "    # dictionary; map function name to symbol name + number\n",
    "    fun_symbols = {}\n",
    "    # dictionary; map variable name to symbol name + number\n",
    "    var_symbols = {}\n",
    "\n",
    "    fun_count = 1\n",
    "    var_count = 1\n",
    "\n",
    "    # regular expression to catch multi-line comment\n",
    "    rx_comment = re.compile('\\*/\\s*$')\n",
    "    # regular expression to find function name candidates\n",
    "    rx_fun = re.compile(r'\\b([_A-Za-z]\\w*)\\b(?=\\s*\\()')\n",
    "    # regular expression to find variable name candidates\n",
    "    #rx_var = re.compile(r'\\b([_A-Za-z]\\w*)\\b(?!\\s*\\()')\n",
    "    rx_var = re.compile(r'\\b([_A-Za-z]\\w*)\\b(?:(?=\\s*\\w+\\()|(?!\\s*\\w+))(?!\\s*\\()')\n",
    "\n",
    "    # final cleaned gadget output to return to interface\n",
    "    cleaned_gadget = []\n",
    "    \n",
    "    for line in gadget:\n",
    "        # process if not the header line and not a multi-line commented line\n",
    "        if rx_comment.search(line) is None:\n",
    "        # remove all string literals (keep the quotes)\n",
    "            nostrlit_line = re.sub(r'\".*?\"', '\"\"', line)\n",
    "            # remove all character literals\n",
    "            nocharlit_line = re.sub(r\"'.*?'\", \"''\", nostrlit_line)\n",
    "            # replace any non-ASCII characters with empty string\n",
    "            ascii_line = re.sub(r'[^\\x00-\\x7f]', r'', nocharlit_line)\n",
    "\n",
    "            # return, in order, all regex matches at string list; preserves order for semantics\n",
    "            user_fun = rx_fun.findall(ascii_line)\n",
    "            user_var = rx_var.findall(ascii_line)\n",
    "\n",
    "            # Could easily make a \"clean gadget\" type class to prevent duplicate functionality\n",
    "            # of creating/comparing symbol names for functions and variables in much the same way.\n",
    "            # The comparison frozenset, symbol dictionaries, and counters would be class scope.\n",
    "            # So would only need to pass a string list and a string literal for symbol names to\n",
    "            # another function.\n",
    "            for fun_name in user_fun:\n",
    "                if len({fun_name}.difference(main_set)) != 0 and len({fun_name}.difference(keywords)) != 0:\n",
    "                    # DEBUG\n",
    "                    #print('comparing ' + str(fun_name + ' to ' + str(main_set)))\n",
    "                    #print(fun_name + ' diff len from main is ' + str(len({fun_name}.difference(main_set))))\n",
    "                    #print('comparing ' + str(fun_name + ' to ' + str(keywords)))\n",
    "                    #print(fun_name + ' diff len from keywords is ' + str(len({fun_name}.difference(keywords))))\n",
    "                    ###\n",
    "                    # check to see if function name already in dictionary\n",
    "                    if fun_name not in fun_symbols.keys():\n",
    "                        fun_symbols[fun_name] = 'FUN' + str(fun_count)\n",
    "                        fun_count += 1\n",
    "                    # ensure that only function name gets replaced (no variable name with same\n",
    "                    # identifier); uses positive lookforward\n",
    "                    ascii_line = re.sub(r'\\b(' + fun_name + r')\\b(?=\\s*\\()', fun_symbols[fun_name], ascii_line)\n",
    "\n",
    "            for var_name in user_var:\n",
    "                # next line is the nuanced difference between fun_name and var_name\n",
    "                if len({var_name}.difference(keywords)) != 0 and len({var_name}.difference(main_args)) != 0:\n",
    "                    # DEBUG\n",
    "                    #print('comparing ' + str(var_name + ' to ' + str(keywords)))\n",
    "                    #print(var_name + ' diff len from keywords is ' + str(len({var_name}.difference(keywords))))\n",
    "                    #print('comparing ' + str(var_name + ' to ' + str(main_args)))\n",
    "                    #print(var_name + ' diff len from main args is ' + str(len({var_name}.difference(main_args))))\n",
    "                    ###\n",
    "                    # check to see if variable name already in dictionary\n",
    "                    if var_name not in var_symbols.keys():\n",
    "                        var_symbols[var_name] = 'VAR' + str(var_count)\n",
    "                        var_count += 1\n",
    "                    # ensure that only variable name gets replaced (no function name with same\n",
    "                    # identifier); uses negative lookforward\n",
    "                    ascii_line = re.sub(r'\\b(' + var_name + r')\\b(?:(?=\\s*\\w+\\()|(?!\\s*\\w+))(?!\\s*\\()', \\\n",
    "                                        var_symbols[var_name], ascii_line)\n",
    "\n",
    "            cleaned_gadget.append(ascii_line)\n",
    "        # return the list of cleaned lines\n",
    "        return cleaned_gadget\n"
   ]
  },
  {
   "cell_type": "code",
   "execution_count": 20,
   "metadata": {},
   "outputs": [],
   "source": [
    "if __name__ == '__main__':\n",
    "    test_gadget = ['231 151712/shm_setup.c inputfunc 11',\n",
    "                   'int main(int argc, char **argv) {',\n",
    "                   'while ((c = getopt(argc, argv, \"k:s:m:o:h\")) != -1) {',\n",
    "                   'switch(c) {']\n",
    "\n",
    "    test_gadget2 = ['278 151587/ffmpeg.c inputfunc 3159', 'int main(int argc,char **argv)',\n",
    "                    'parse_loglevel(argc,argv,options);', 'if (argc > 1 && !strcmp(argv[1],\"-d\")) {',\n",
    "                    'argc--;', 'argv++;', 'show_banner(argc,argv,options);',\n",
    "                    'ret = ffmpeg_parse_options(argc,argv);', 'if (ret < 0) {']\n",
    "\n",
    "    \n",
    "    test_gadget3 = ['invalid_memory_access_012_s_001 *s;',\n",
    "                    's = (invalid_memory_access_012_s_001 *)calloc(1,sizeof(invalid_memory_access_012_s_001));',\n",
    "                    's->a = 20;', 's->b = 20;', 's->uninit = 20;', 'free(s);]']\n",
    "\n",
    "    test_gadgetline = ['function(File file, Buffer buff)', 'this is a comment test */']\n",
    "\n",
    "    split_test = 'printf ( \" \" , variable ++  )'.split()"
   ]
  },
  {
   "cell_type": "code",
   "execution_count": 21,
   "metadata": {},
   "outputs": [
    {
     "name": "stdout",
     "output_type": "stream",
     "text": [
      "['231 151712/VAR1.c inputfunc 11']\n",
      "['278 151587/VAR1.c inputfunc 3159']\n",
      "['VAR1 *VAR2;']\n",
      "['FUN1(File VAR1, Buffer VAR2)']\n",
      "['printf', '(', '\"', '\"', ',', 'variable', '++', ')']\n"
     ]
    }
   ],
   "source": [
    "print(clean_gadget(test_gadget))\n",
    "print(clean_gadget(test_gadget2))\n",
    "print(clean_gadget(test_gadget3))\n",
    "print(clean_gadget(test_gadgetline))\n",
    "print(split_test)"
   ]
  },
  {
   "cell_type": "code",
   "execution_count": null,
   "metadata": {},
   "outputs": [],
   "source": []
  },
  {
   "cell_type": "code",
   "execution_count": null,
   "metadata": {},
   "outputs": [],
   "source": []
  }
 ],
 "metadata": {
  "kernelspec": {
   "display_name": "Python 3",
   "language": "python",
   "name": "python3"
  },
  "language_info": {
   "codemirror_mode": {
    "name": "ipython",
    "version": 3
   },
   "file_extension": ".py",
   "mimetype": "text/x-python",
   "name": "python",
   "nbconvert_exporter": "python",
   "pygments_lexer": "ipython3",
   "version": "3.8.5"
  }
 },
 "nbformat": 4,
 "nbformat_minor": 4
}
